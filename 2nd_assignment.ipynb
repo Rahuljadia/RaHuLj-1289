{
 "cells": [
  {
   "cell_type": "markdown",
   "id": "5e70723d",
   "metadata": {},
   "source": [
    "# 2nd Assignment-------Ques.1    "
   ]
  },
  {
   "cell_type": "code",
   "execution_count": 24,
   "id": "23be2c66",
   "metadata": {},
   "outputs": [
    {
     "name": "stdout",
     "output_type": "stream",
     "text": [
      "5\n",
      "\n",
      "* \n",
      "* * \n",
      "* * * \n",
      "* * * * \n",
      "* * * * * \n",
      "* * * * \n",
      "* * * \n",
      "* * \n",
      "* \n",
      "\n"
     ]
    }
   ],
   "source": [
    "row = int(input())\n",
    "print('')\n",
    "for i in range(0,row):\n",
    "    \n",
    "        for j in range(0,i+1):\n",
    "            print(\"*\",end=\" \")\n",
    "        print('')\n",
    "        \n",
    "for i in range(row,0,-1):    \n",
    "        for j in range(0,i-1):\n",
    "            print(\"*\",end=\" \")\n",
    "        print('') \n",
    "        "
   ]
  },
  {
   "cell_type": "markdown",
   "id": "11a6a2f7",
   "metadata": {},
   "source": [
    "# Ques.2"
   ]
  },
  {
   "cell_type": "code",
   "execution_count": 28,
   "id": "9a053c1e",
   "metadata": {},
   "outputs": [
    {
     "name": "stdout",
     "output_type": "stream",
     "text": [
      "Enter name:ineuron\n",
      "reverse of name : norueni\n"
     ]
    }
   ],
   "source": [
    "name = input(\"Enter name:\")\n",
    "reverse_name = name[::-1]\n",
    "print(\"reverse of name :\",reverse_name)"
   ]
  },
  {
   "cell_type": "code",
   "execution_count": null,
   "id": "1a5474f7",
   "metadata": {},
   "outputs": [],
   "source": []
  }
 ],
 "metadata": {
  "kernelspec": {
   "display_name": "Python 3",
   "language": "python",
   "name": "python3"
  },
  "language_info": {
   "codemirror_mode": {
    "name": "ipython",
    "version": 3
   },
   "file_extension": ".py",
   "mimetype": "text/x-python",
   "name": "python",
   "nbconvert_exporter": "python",
   "pygments_lexer": "ipython3",
   "version": "3.8.8"
  }
 },
 "nbformat": 4,
 "nbformat_minor": 5
}
